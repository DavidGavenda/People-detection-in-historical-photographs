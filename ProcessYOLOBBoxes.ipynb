{
 "cells": [
  {
   "cell_type": "code",
   "execution_count": 4,
   "id": "13f0c95d-9fda-48fd-9131-d650b5cba2a1",
   "metadata": {},
   "outputs": [],
   "source": [
    "# https://stackoverflow.com/questions/64096953/how-to-convert-yolo-format-bounding-box-coordinates-into-opencv-format\n",
    "folderWithBB = 'C:/Users/David/Skola-PC/runs/detect/predict5/'\n",
    "root = 'C:/Users/David/Skola-PC/Resized/'\n",
    "\n",
    "import cv2\n",
    "import pandas as pd\n",
    "import os\n",
    "dataset = []\n",
    "\n",
    "\n",
    "for path in os.listdir(folderWithBB):\n",
    "    dataset = []\n",
    "    totalPath = folderWithBB + path\n",
    "    for one in os.listdir(totalPath):\n",
    "        file = open(totalPath + '/' + one, 'r')\n",
    "        boxList = []\n",
    "        lines = file.readlines()\n",
    "        img = cv2.imread(root + one[:-3]+'jpg')\n",
    "        dh, dw, _ = img.shape\n",
    "        for line in lines: \n",
    "            _, x, y, w, h = map(float, line.split(' '))\n",
    "\n",
    "            l = int((x - w / 2) * dw)\n",
    "            r = int((x + w / 2) * dw)\n",
    "            t = int((y - h / 2) * dh)\n",
    "            b = int((y + h / 2) * dh)\n",
    "\n",
    "            if l < 0:\n",
    "                l = 0\n",
    "            if r > dw - 1:\n",
    "                r = dw - 1\n",
    "            if t < 0:\n",
    "                t = 0\n",
    "            if b > dh - 1:\n",
    "                b = dh - 1\n",
    "\n",
    "            boxList.append([l,t,r,b])\n",
    "        listOfBoxes = [one[:-3]+'jpg', boxList]\n",
    "        dataset.append(listOfBoxes)\n",
    "    YoloInfo = pd.DataFrame(dataset,columns=['FileName','Boxes'])\n",
    "    YoloInfo.to_csv('./ProcessedAnnotations/Test/' + path + '.csv')"
   ]
  },
  {
   "cell_type": "code",
   "execution_count": null,
   "id": "28708b2c-c13e-4f0a-8c1d-02b9bf0f11df",
   "metadata": {},
   "outputs": [],
   "source": []
  }
 ],
 "metadata": {
  "kernelspec": {
   "display_name": "Python 3 (ipykernel)",
   "language": "python",
   "name": "python3"
  },
  "language_info": {
   "codemirror_mode": {
    "name": "ipython",
    "version": 3
   },
   "file_extension": ".py",
   "mimetype": "text/x-python",
   "name": "python",
   "nbconvert_exporter": "python",
   "pygments_lexer": "ipython3",
   "version": "3.9.16"
  }
 },
 "nbformat": 4,
 "nbformat_minor": 5
}
